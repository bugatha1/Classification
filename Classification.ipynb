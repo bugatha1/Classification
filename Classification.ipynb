{
  "nbformat": 4,
  "nbformat_minor": 0,
  "metadata": {
    "colab": {
      "name": "Classification.ipynb",
      "provenance": [],
      "authorship_tag": "ABX9TyN2HNb6/jrzM0hVfx1Jx9dX",
      "include_colab_link": true
    },
    "kernelspec": {
      "name": "python3",
      "display_name": "Python 3"
    },
    "language_info": {
      "name": "python"
    }
  },
  "cells": [
    {
      "cell_type": "markdown",
      "metadata": {
        "id": "view-in-github",
        "colab_type": "text"
      },
      "source": [
        "<a href=\"https://colab.research.google.com/github/bugatha1/Classification/blob/main/Classification.ipynb\" target=\"_parent\"><img src=\"https://colab.research.google.com/assets/colab-badge.svg\" alt=\"Open In Colab\"/></a>"
      ]
    },
    {
      "cell_type": "markdown",
      "source": [
        "                                                       "
      ],
      "metadata": {
        "id": "aBCkx3Xk4JJU"
      }
    },
    {
      "cell_type": "markdown",
      "source": [
        "1) Binary classification <br>\n",
        "2) Multiclass classification\n",
        "\n",
        "source : https://learning.oreilly.com/library/view/hands-on-machine-learning/9781492032632/preface01.html\n",
        "\n",
        "![image.png](data:image/png;base64,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)"
      ],
      "metadata": {
        "id": "faPLEp7QAChn"
      }
    },
    {
      "cell_type": "markdown",
      "source": [
        "# Logistic Regression\n",
        "It is similar to linear regression.                                             \n",
        "Problem : Need to predict the probability(chances) of our customers to accept   our offer based on their age.                                                   \n",
        "Solution : logistic regression model.                                           \n",
        "Explanation: Based on the training data we come to know the age of the          customers who took the offer. Suppose the customers whose age is more than 50   are likely to accept our offer and the customers who age is less than 50 are    not accept our offer.    "
      ],
      "metadata": {
        "id": "ipNevUSy__dZ"
      }
    },
    {
      "cell_type": "code",
      "source": [
        "# Logistic regression model on training dataset\n",
        "\n",
        "from sklearn.linear_model import LogisticRegression\n",
        "classifier = LogisticRegression(random_state=0)\n",
        "classifier.fit(X_train, y_train)\n",
        "\n",
        "# predict \n",
        "classifier.predict([[30, 87000]])"
      ],
      "metadata": {
        "id": "vz9NJOI87NzP"
      },
      "execution_count": null,
      "outputs": []
    },
    {
      "cell_type": "markdown",
      "source": [
        "# Confusion Metrix\n",
        "\n",
        "shows correct predictions and incorrect predictions"
      ],
      "metadata": {
        "id": "49NhhdzjKLiX"
      }
    },
    {
      "cell_type": "code",
      "source": [
        "from sklearn.metrics import confusion_metrix, accuracy_score\n",
        "cm = confusion_metrix(y_test, y_pred)\n",
        "print(cm)\n",
        "accuracy_score(y_test, y_pred)"
      ],
      "metadata": {
        "id": "uT3foVjKKqfD"
      },
      "execution_count": null,
      "outputs": []
    },
    {
      "cell_type": "markdown",
      "source": [
        "# KNN (K- Nearest Neighbors)\n",
        "step1 : Choose the number k of neighbors                                        \n",
        "step2: Take the K nearest neighbors of the new data point, according to the     Euclidean distance (sqrt(pow2(x2-x1)+pow2(y2-y1))                               \n",
        "step3: Among these K neighbors, count the number of data points in each category\n",
        "step4: Assign the new data point to the category where you counted the most     neighbors"
      ],
      "metadata": {
        "id": "k4Pts2XcO1wt"
      }
    },
    {
      "cell_type": "code",
      "source": [
        "# K-NN model on the training set\n",
        "\n",
        "from sklearn.neighbors import KNeighborsClassifier\n",
        "classifier = KNeighborsClassifier(n_neighbors=5, metric='minkowski', p=2)  # p= 1 means manhatten_distance and 2 means euclidean distance\n",
        "classifier.fit(X_train, y_train)"
      ],
      "metadata": {
        "id": "gfB3YHsucdBC"
      },
      "execution_count": null,
      "outputs": []
    },
    {
      "cell_type": "markdown",
      "source": [
        "# SVM (Support Vector Machine)\n",
        "SVM (linear) will be used if data is separated linearly.                        \n",
        "Finding best line or best decision boundary which will separte our space (dataset) into classes (categories)"
      ],
      "metadata": {
        "id": "hDGFwRH-u_PY"
      }
    },
    {
      "cell_type": "code",
      "source": [
        "# SVM model on the training set\n",
        "\n",
        "from sklearn.svm import SVC\n",
        "classifier = SVC(kernel='linear', random_state=0)\n",
        "classifier.fit(X_train, y_train)"
      ],
      "metadata": {
        "id": "vAFiXy4rwu6L"
      },
      "execution_count": null,
      "outputs": []
    },
    {
      "cell_type": "markdown",
      "source": [
        "# Types of Kernel  functions\n",
        "Gaussian RBF Kernel                                                             \n",
        "sigmoid kernel                                                                  \n",
        "polynomial kernel"
      ],
      "metadata": {
        "id": "qCMuzureNvSl"
      }
    },
    {
      "cell_type": "markdown",
      "source": [
        "# Non linear SVR"
      ],
      "metadata": {
        "id": "tE2FTXKjPD-T"
      }
    },
    {
      "cell_type": "code",
      "source": [
        "# kernel svm model on the training set\n",
        "\n",
        "from sklearn.svm import SVC\n",
        "classifier = SVC(kernel = 'rbf', random_state=0)  # rbf = regional basis function\n",
        "classifier.fit(X_train, y_train)"
      ],
      "metadata": {
        "id": "kAfucWJobSBW"
      },
      "execution_count": null,
      "outputs": []
    }
  ]
}